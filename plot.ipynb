{
 "cells": [
  {
   "cell_type": "code",
   "execution_count": 1,
   "metadata": {},
   "outputs": [],
   "source": [
    "import matplotlib.pyplot as plt\n",
    "import numpy as np\n",
    "import os"
   ]
  },
  {
   "cell_type": "code",
   "execution_count": 19,
   "metadata": {},
   "outputs": [],
   "source": [
    "def bb_box_to_point(bb_box):\n",
    "    # Get the midpoint of bb_box (x1, y1, x2, y2)\n",
    "    x1 = bb_box[0]\n",
    "    y1 = bb_box[1]\n",
    "    x2 = bb_box[2]\n",
    "    y2 = bb_box[3]\n",
    "    x_mid = (x1 + x2) / 2\n",
    "    y_mid = (y1 + y2) / 2\n",
    "    return x_mid, y_mid\n",
    "\n",
    "def dist(x1, y1, x2, y2):\n",
    "    return np.sqrt((x1 - x2)**2 + (y1 - y2)**2)\n",
    "\n",
    "def get_files(folder):\n",
    "    files = []\n",
    "    for file in os.listdir(folder):\n",
    "        if file.endswith(\".txt\"): \n",
    "            files.append(file)\n",
    "    return files"
   ]
  },
  {
   "cell_type": "code",
   "execution_count": 27,
   "metadata": {},
   "outputs": [
    {
     "name": "stdout",
     "output_type": "stream",
     "text": [
      "s1-0.txt\n",
      "s10-0.txt\n"
     ]
    },
    {
     "data": {
      "image/png": "[encoded data removed]",
      "text/plain": [
       "<Figure size 432x288 with 1 Axes>"
      ]
     },
     "metadata": {
      "needs_background": "light"
     },
     "output_type": "display_data"
    }
   ],
   "source": [
    "FILEPATH = \"output\"\n",
    "\n",
    "file_list = get_files(FILEPATH)\n",
    "# Open up output/set5b-1.txt, convert each line to point, and plot\n",
    "for file in file_list[0:2]:\n",
    "    print(file)\n",
    "    with open(FILEPATH + \"/\" + file, \"r\") as f:\n",
    "        lines = f.readlines()\n",
    "\n",
    "        r_list = []\n",
    "        t_list = []\n",
    "\n",
    "        x0, y0 = -1, -1\n",
    "        t0 = 0\n",
    "        for line in lines:\n",
    "            bb_box = [float(i) for i in line.split(\",\")[1:]]\n",
    "\n",
    "            x_mid, y_mid = bb_box_to_point(bb_box)\n",
    "            t = float(line.split(\",\")[0])\n",
    "            if x0 == -1:\n",
    "                x0, y0 = x_mid, y_mid\n",
    "                t0 = t\n",
    "\n",
    "            t_list.append(t-t0)\n",
    "            r_list.append(dist(x0, y0, x_mid, y_mid))\n",
    "\n",
    "        plt.plot(t_list, r_list)\n"
   ]
  },
  {
   "cell_type": "code",
   "execution_count": 21,
   "metadata": {},
   "outputs": [
    {
     "name": "stdout",
     "output_type": "stream",
     "text": [
      "['s1-0.txt', 's10-0.txt', 's2-0.txt', 's3-0.txt', 's4-0.txt', 's5-0.txt', 's7-0.txt', 's8-0.txt', 's9-0.txt', 'Set10a-0.txt', 'Set10a-1.txt', 'Set10a-2.txt', 'Set10a-3.txt', 'Set10a-4.txt', 'Set10a-5.txt', 'Set1a-0.txt', 'Set1a-1.txt', 'Set1a-2.txt', 'Set1a-3.txt', 'Set1a-4.txt', 'set1b-0.txt', 'set1b-1.txt', 'set1b-2.txt', 'set1b-3.txt', 'set1b-4.txt', 'set1b-5.txt', 'Set2a-0.txt', 'Set2a-1.txt', 'Set2a-2.txt', 'Set2a-3.txt', 'set2b-0.txt', 'set2b-1.txt', 'set2b-2.txt', 'set2b-3.txt', 'Set3a-0.txt', 'Set3a-1.txt', 'Set3a-2.txt', 'set3b-0.txt', 'set3b-1.txt', 'set3b-2.txt', 'set3b-3.txt', 'Set4a-0.txt', 'Set4a-1.txt', 'Set4a-2.txt', 'set4b-0.txt', 'set4b-1.txt', 'set4b-2.txt', 'set4b-3.txt', 'Set5a-0.txt', 'Set5a-1.txt', 'Set5a-2.txt', 'set5b-0.txt', 'set5b-1.txt', 'set5b-2.txt', 'set5b-3.txt', 'Set6a-0.txt', 'Set6a-1.txt', 'Set6a-2.txt', 'set6b-0.txt', 'set6b-1.txt', 'set6b-2.txt', 'set6b-3.txt', 'Set7a-0.txt', 'Set7a-1.txt', 'Set7a-2.txt', 'Set7a-3.txt', 'Set7a-4.txt', 'Set7a-5.txt', 'Set7a-6.txt', 'set7b-0.txt', 'set7b-1.txt', 'set7b-2.txt', 'set7b-3.txt', 'Set8a-0.txt', 'Set8a-1.txt', 'Set8a-2.txt', 'Set8a-3.txt', 'Set8a-4.txt', 'Set8a-5.txt', 'Set8a-6.txt', 'set8b-0.txt', 'set8b-1.txt', 'set8b-2.txt', 'Set9a-0.txt', 'Set9a-1.txt', 'Set9a-2.txt', 'Set9a-3.txt']\n"
     ]
    }
   ],
   "source": [
    "file_list = get_files(FILEPATH)\n",
    "print(file_list)"
   ]
  },
  {
   "cell_type": "code",
   "execution_count": null,
   "metadata": {},
   "outputs": [],
   "source": []
  }
 ],
 "metadata": {
  "interpreter": {
   "hash": "f9983b5ffafbe332e6dcd960050b68769d74ba1298d5043c24c553477a9ad01b"
  },
  "kernelspec": {
   "display_name": "Python 3.7.0 64-bit",
   "language": "python",
   "name": "python3"
  },
  "language_info": {
   "codemirror_mode": {
    "name": "ipython",
    "version": 3
   },
   "file_extension": ".py",
   "mimetype": "text/x-python",
   "name": "python",
   "nbconvert_exporter": "python",
   "pygments_lexer": "ipython3",
   "version": "3.7.0"
  },
  "orig_nbformat": 4
 },
 "nbformat": 4,
 "nbformat_minor": 2
}
