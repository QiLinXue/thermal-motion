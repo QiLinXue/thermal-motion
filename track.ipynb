{
 "cells": [
  {
   "cell_type": "code",
   "execution_count": 4,
   "metadata": {},
   "outputs": [],
   "source": [
    "import cv2\n",
    "import numpy as np\n",
    "import os\n",
    "import json\n",
    "import ast"
   ]
  },
  {
   "cell_type": "code",
   "execution_count": 5,
   "metadata": {},
   "outputs": [],
   "source": [
    "pixel_to_um = 0.1155\n",
    "pixel_to_m = pixel_to_um * 1e-6"
   ]
  },
  {
   "cell_type": "code",
   "execution_count": 6,
   "metadata": {},
   "outputs": [],
   "source": [
    "# Make a list of all folders in a folder\n",
    "def get_folder_list(folder):\n",
    "    return [name for name in os.listdir(folder) if os.path.isdir(os.path.join(folder, name))]"
   ]
  },
  {
   "cell_type": "code",
   "execution_count": 7,
   "metadata": {},
   "outputs": [],
   "source": [
    "def get_BB(folder, set_list):\n",
    "    bbox_dict = {}\n",
    "    for s in set_list[0:3]:\n",
    "        seq = cv2.VideoCapture(f\"{folder}/{s}/Image#%04d.jpg\")\n",
    "        if not seq.isOpened():\n",
    "            print('error reading image sequence')\n",
    "            break\n",
    "        valid, frame = seq.read()\n",
    "        if not valid:\n",
    "            print('error reading image')\n",
    "            break\n",
    "        bbox = cv2.selectROIs(\"Select Rois\",frame)\n",
    "        print(bbox)\n",
    "        bbox = [tuple(x) for x in bbox]\n",
    "        bbox_dict[s] = bbox\n",
    "\n",
    "    cv2.destroyAllWindows()\n",
    "    return bbox_dict"
   ]
  },
  {
   "cell_type": "code",
   "execution_count": 8,
   "metadata": {},
   "outputs": [],
   "source": [
    "def track(folder, tracker, bbox, output_file):\n",
    "    '''\n",
    "    Track an object initially denoted by a bounding box (bbox)\n",
    "    and write out the location in an output file\n",
    "    '''\n",
    "    seq = cv2.VideoCapture(f\"{folder}/Image#%04d.jpg\")\n",
    "    if not seq.isOpened():\n",
    "        print('error reading image sequence')\n",
    "    valid, frame = seq.read()\n",
    "    if not valid:\n",
    "        print('error reading image')\n",
    "\n",
    "    # Initialize tracker with first frame and bounding box\n",
    "    valid = tracker.init(frame, bbox)\n",
    "\n",
    "    data = []\n",
    "    while True:\n",
    "        # Read a new frame\n",
    "        valid, frame = seq.read()\n",
    "        if not valid:\n",
    "            break\n",
    "\n",
    "        # Start timer\n",
    "        timer = cv2.getTickCount()\n",
    "\n",
    "        # Update tracker\n",
    "        valid, bbox = tracker.update(frame)\n",
    "\n",
    "        # Calculate Frames per second (FPS)\n",
    "        fps = cv2.getTickFrequency() / (cv2.getTickCount() - timer)\n",
    "\n",
    "        # Draw bounding box\n",
    "        if valid:\n",
    "            # Tracking success\n",
    "            p1 = (int(bbox[0]), int(bbox[1]))\n",
    "            p2 = (int(bbox[0] + bbox[2]), int(bbox[1] + bbox[3]))\n",
    "            cv2.rectangle(frame, p1, p2, (255, 0, 0), 2, 1)\n",
    "        else:\n",
    "            # Tracking failure\n",
    "            cv2.putText(frame, \"Tracking failure detected\", (100, 80), cv2.FONT_HERSHEY_SIMPLEX, 0.75, (0, 0, 255), 2)\n",
    "        x = [timer]\n",
    "        x.extend(bbox)\n",
    "        # data\n",
    "        data.append(np.array(x))\n",
    "        # Display result\n",
    "        cv2.imsave()\n",
    "        cv2.imshow(\"Tracking\", frame)\n",
    "\n",
    "        # Exit if ESC pressed\n",
    "        if cv2.waitKey(1) & 0xFF == ord('q'):  # if press SPACE bar\n",
    "            break\n",
    "    \n",
    "    # Save data\n",
    "    np.savetxt(output_file, data, delimiter=',')\n",
    "    cv2.destroyAllWindows()"
   ]
  },
  {
   "cell_type": "code",
   "execution_count": 9,
   "metadata": {},
   "outputs": [],
   "source": [
    "def dict_to_json(dict, filename):\n",
    "    '''Saves a dictionary to a json file'''\n",
    "    with open(filename, 'w') as f:\n",
    "        json.dump(dict, f)\n",
    "\n",
    "def json_to_dict(filename):\n",
    "    '''Loads a json file into a dictionary'''\n",
    "    with open(filename) as f:\n",
    "        return json.load(f)\n"
   ]
  },
  {
   "cell_type": "code",
   "execution_count": 10,
   "metadata": {},
   "outputs": [],
   "source": [
    "def dict_to_txt(dict, filename):\n",
    "    '''Saves a dictionary to a txt file'''\n",
    "    with open(filename, 'w') as f:\n",
    "        for key in dict:\n",
    "            f.write(f\"{key}:{dict[key]}\\n\")\n",
    "\n",
    "def txt_to_dict(filename):\n",
    "    '''Converts a txt file into a dictionary'''\n",
    "    with open(filename) as f:\n",
    "        return {line.split(':')[0]: ast.literal_eval(line.split(':')[1][:-1]) for line in f}"
   ]
  },
  {
   "cell_type": "markdown",
   "metadata": {},
   "source": [
    "# Track the Blobs"
   ]
  },
  {
   "cell_type": "code",
   "execution_count": 11,
   "metadata": {},
   "outputs": [
    {
     "name": "stdout",
     "output_type": "stream",
     "text": [
      "()\n",
      "()\n",
      "()\n"
     ]
    }
   ],
   "source": [
    "# Pre-processing\n",
    "set_list = get_folder_list('data')\n",
    "bbox_dict = get_BB('data', set_list)\n",
    "dict_to_txt(bbox_dict, 'bbox_dict.txt')"
   ]
  },
  {
   "cell_type": "code",
   "execution_count": 12,
   "metadata": {},
   "outputs": [
    {
     "ename": "KeyError",
     "evalue": "'Set2a'",
     "output_type": "error",
     "traceback": [
      "\u001B[1;31m---------------------------------------------------------------------------\u001B[0m",
      "\u001B[1;31mKeyError\u001B[0m                                  Traceback (most recent call last)",
      "\u001B[1;32mC:\\Users\\ANDREW~1\\AppData\\Local\\Temp/ipykernel_8520/3254866959.py\u001B[0m in \u001B[0;36m<module>\u001B[1;34m\u001B[0m\n\u001B[0;32m      5\u001B[0m \u001B[1;32mfor\u001B[0m \u001B[0ms\u001B[0m \u001B[1;32min\u001B[0m \u001B[0mset_list\u001B[0m\u001B[1;33m:\u001B[0m\u001B[1;33m\u001B[0m\u001B[1;33m\u001B[0m\u001B[0m\n\u001B[0;32m      6\u001B[0m     \u001B[0mi\u001B[0m \u001B[1;33m=\u001B[0m \u001B[1;36m0\u001B[0m\u001B[1;33m\u001B[0m\u001B[1;33m\u001B[0m\u001B[0m\n\u001B[1;32m----> 7\u001B[1;33m     \u001B[1;32mfor\u001B[0m \u001B[0mbbox\u001B[0m \u001B[1;32min\u001B[0m \u001B[0mbbox_dict\u001B[0m\u001B[1;33m[\u001B[0m\u001B[0ms\u001B[0m\u001B[1;33m]\u001B[0m\u001B[1;33m:\u001B[0m\u001B[1;33m\u001B[0m\u001B[1;33m\u001B[0m\u001B[0m\n\u001B[0m\u001B[0;32m      8\u001B[0m         \u001B[0mprint\u001B[0m\u001B[1;33m(\u001B[0m\u001B[0ms\u001B[0m\u001B[1;33m,\u001B[0m \u001B[0mi\u001B[0m\u001B[1;33m,\u001B[0m \u001B[0mbbox\u001B[0m\u001B[1;33m)\u001B[0m\u001B[1;33m\u001B[0m\u001B[1;33m\u001B[0m\u001B[0m\n\u001B[0;32m      9\u001B[0m         \u001B[0mtracker\u001B[0m \u001B[1;33m=\u001B[0m \u001B[0mcv2\u001B[0m\u001B[1;33m.\u001B[0m\u001B[0mTrackerCSRT_create\u001B[0m\u001B[1;33m(\u001B[0m\u001B[1;33m)\u001B[0m\u001B[1;33m\u001B[0m\u001B[1;33m\u001B[0m\u001B[0m\n",
      "\u001B[1;31mKeyError\u001B[0m: 'Set2a'"
     ]
    }
   ],
   "source": [
    "# Tracking\n",
    "bbox_dict = txt_to_dict('bbox_dict.txt')\n",
    "tracker = cv2.TrackerCSRT_create()\n",
    "\n",
    "for s in set_list:\n",
    "    i = 0\n",
    "    for bbox in bbox_dict[s]:\n",
    "        print(s, i, bbox)\n",
    "        tracker = cv2.TrackerCSRT_create()\n",
    "        output = track(f\"data/{s}\", tracker, bbox, f\"output/{s}-{i}.txt\")\n",
    "        i += 1"
   ]
  },
  {
   "cell_type": "code",
   "execution_count": null,
   "metadata": {},
   "outputs": [],
   "source": []
  }
 ],
 "metadata": {
  "interpreter": {
   "hash": "f9983b5ffafbe332e6dcd960050b68769d74ba1298d5043c24c553477a9ad01b"
  },
  "kernelspec": {
   "display_name": "Python 3.7.0 64-bit",
   "language": "python",
   "name": "python3"
  },
  "language_info": {
   "codemirror_mode": {
    "name": "ipython",
    "version": 3
   },
   "file_extension": ".py",
   "mimetype": "text/x-python",
   "name": "python",
   "nbconvert_exporter": "python",
   "pygments_lexer": "ipython3",
   "version": "3.7.0"
  },
  "orig_nbformat": 4
 },
 "nbformat": 4,
 "nbformat_minor": 2
}