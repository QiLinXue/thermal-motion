{
 "cells": [
  {
   "cell_type": "code",
   "execution_count": 3,
   "metadata": {},
   "outputs": [],
   "source": [
    "import cv2\n",
    "import numpy as np\n",
    "import os\n",
    "import json\n",
    "import ast"
   ]
  },
  {
   "cell_type": "code",
   "execution_count": 4,
   "metadata": {},
   "outputs": [],
   "source": [
    "pixel_to_um = 0.1155\n",
    "pixel_to_m = pixel_to_um * 1e-6"
   ]
  },
  {
   "cell_type": "code",
   "execution_count": 5,
   "metadata": {},
   "outputs": [],
   "source": [
    "# Make a list of all folders in a folder\n",
    "def get_folder_list(folder):\n",
    "    return [name for name in os.listdir(folder) if os.path.isdir(os.path.join(folder, name))]"
   ]
  },
  {
   "cell_type": "code",
   "execution_count": 16,
   "metadata": {},
   "outputs": [],
   "source": [
    "def get_BB(folder, set_list):\n",
    "    bbox_dict = {}\n",
    "    for s in set_list[0:3]:\n",
    "        seq = cv2.VideoCapture(f\"{folder}/{s}/Image#%04d.jpg\")\n",
    "        if not seq.isOpened():\n",
    "            print('error reading image sequence')\n",
    "            break\n",
    "        valid, frame = seq.read()\n",
    "        if not valid:\n",
    "            print('error reading image')\n",
    "            break\n",
    "        bbox = cv2.selectROIs(\"Select Rois\",frame)\n",
    "        print(bbox)\n",
    "        bbox = [tuple(x) for x in bbox]\n",
    "        bbox_dict[s] = bbox\n",
    "\n",
    "    cv2.destroyAllWindows()\n",
    "    return bbox_dict"
   ]
  },
  {
   "cell_type": "code",
   "execution_count": 7,
   "metadata": {},
   "outputs": [],
   "source": [
    "def track(folder, tracker, bbox, output_file):\n",
    "    '''\n",
    "    Track an object initially denoted by a bounding box (bbox)\n",
    "    and write out the location in an output file\n",
    "    '''\n",
    "    seq = cv2.VideoCapture(f\"{folder}/Image#%04d.jpg\")\n",
    "    if not seq.isOpened():\n",
    "        print('error reading image sequence')\n",
    "    valid, frame = seq.read()\n",
    "    if not valid:\n",
    "        print('error reading image')\n",
    "\n",
    "    # Initialize tracker with first frame and bounding box\n",
    "    valid = tracker.init(frame, bbox)\n",
    "\n",
    "    data = []\n",
    "    while True:\n",
    "        # Read a new frame\n",
    "        valid, frame = seq.read()\n",
    "        if not valid:\n",
    "            break\n",
    "\n",
    "        # Start timer\n",
    "        timer = cv2.getTickCount()\n",
    "\n",
    "        # Update tracker\n",
    "        valid, bbox = tracker.update(frame)\n",
    "\n",
    "        # Calculate Frames per second (FPS)\n",
    "        fps = cv2.getTickFrequency() / (cv2.getTickCount() - timer)\n",
    "\n",
    "        # Draw bounding box\n",
    "        if valid:\n",
    "            # Tracking success\n",
    "            p1 = (int(bbox[0]), int(bbox[1]))\n",
    "            p2 = (int(bbox[0] + bbox[2]), int(bbox[1] + bbox[3]))\n",
    "            cv2.rectangle(frame, p1, p2, (255, 0, 0), 2, 1)\n",
    "        else:\n",
    "            # Tracking failure\n",
    "            cv2.putText(frame, \"Tracking failure detected\", (100, 80), cv2.FONT_HERSHEY_SIMPLEX, 0.75, (0, 0, 255), 2)\n",
    "        x = [timer]\n",
    "        x.extend(bbox)\n",
    "        # data\n",
    "        data.append(np.array(x))\n",
    "        # Display result\n",
    "        cv2.imshow(\"Tracking\", frame)\n",
    "\n",
    "        # Exit if ESC pressed\n",
    "        if cv2.waitKey(1) & 0xFF == ord('q'):  # if press SPACE bar\n",
    "            break\n",
    "    \n",
    "    # Save data\n",
    "    np.savetxt(output_file, data, delimiter=',')\n",
    "    cv2.destroyAllWindows()"
   ]
  },
  {
   "cell_type": "code",
   "execution_count": 8,
   "metadata": {},
   "outputs": [],
   "source": [
    "def dict_to_json(dict, filename):\n",
    "    '''Saves a dictionary to a json file'''\n",
    "    with open(filename, 'w') as f:\n",
    "        json.dump(dict, f)\n",
    "\n",
    "def json_to_dict(filename):\n",
    "    '''Loads a json file into a dictionary'''\n",
    "    with open(filename) as f:\n",
    "        return json.load(f)\n"
   ]
  },
  {
   "cell_type": "code",
   "execution_count": 9,
   "metadata": {},
   "outputs": [],
   "source": [
    "def dict_to_txt(dict, filename):\n",
    "    '''Saves a dictionary to a txt file'''\n",
    "    with open(filename, 'w') as f:\n",
    "        for key in dict:\n",
    "            f.write(f\"{key}:{dict[key]}\\n\")\n",
    "\n",
    "def txt_to_dict(filename):\n",
    "    '''Converts a txt file into a dictionary'''\n",
    "    with open(filename) as f:\n",
    "        return {line.split(':')[0]: ast.literal_eval(line.split(':')[1][:-1]) for line in f}"
   ]
  },
  {
   "cell_type": "markdown",
   "metadata": {},
   "source": [
    "# Track the Blobs"
   ]
  },
  {
   "cell_type": "code",
   "execution_count": 17,
   "metadata": {},
   "outputs": [
    {
     "name": "stdout",
     "output_type": "stream",
     "text": [
      "[[443 172 237 240]\n",
      " [317 445  67  62]\n",
      " [818 304  80  89]\n",
      " [939  76  92  82]\n",
      " [842 606  84  91]]\n",
      "[[ 240   95  224  154]\n",
      " [ 753  207   58   55]\n",
      " [ 905  389   70   63]\n",
      " [ 925  556   70   68]\n",
      " [1070  183   49   56]]\n",
      "[[ 370  200  142  107]\n",
      " [ 447  547  175  157]\n",
      " [ 655  489   84   89]\n",
      " [ 673  333  110   90]\n",
      " [1143  395  118  103]\n",
      " [  55  549   75   73]]\n"
     ]
    }
   ],
   "source": [
    "# Pre-processing\n",
    "set_list = get_folder_list('data')\n",
    "bbox_dict = get_BB('data', set_list)\n",
    "dict_to_txt(bbox_dict, 'bbox_dict.txt')"
   ]
  },
  {
   "cell_type": "code",
   "execution_count": 14,
   "metadata": {},
   "outputs": [
    {
     "name": "stdout",
     "output_type": "stream",
     "text": [
      "set1b 0 (375, 203, 124, 108)\n",
      "set1b 1 (445, 550, 176, 141)\n",
      "set1b 2 (653, 504, 73, 74)\n",
      "set1b 3 (664, 338, 88, 83)\n",
      "set1b 4 (44, 536, 97, 87)\n",
      "set1b 5 (1156, 401, 100, 89)\n",
      "Set2a 0 (619, 178, 86, 79)\n",
      "Set2a 1 (470, 369, 70, 65)\n",
      "Set2a 2 (106, 540, 51, 63)\n",
      "Set2a 3 (877, 631, 127, 123)\n",
      "set2b 0 (290, 330, 106, 96)\n",
      "set2b 1 (667, 334, 52, 55)\n",
      "set2b 2 (1101, 229, 49, 52)\n",
      "set2b 3 (1022, 505, 47, 63)\n",
      "Set3a 0 (449, 528, 64, 58)\n",
      "Set3a 1 (580, 221, 56, 59)\n",
      "Set3a 2 (879, 639, 138, 126)\n",
      "set3b 0 (377, 295, 59, 63)\n",
      "set3b 1 (695, 58, 115, 90)\n",
      "set3b 2 (902, 420, 57, 62)\n",
      "Set4a 0 (672, 214, 52, 55)\n",
      "Set4a 1 (965, 235, 60, 60)\n",
      "Set4a 2 (1114, 693, 61, 69)\n",
      "set4b 0 (547, 81, 72, 69)\n",
      "set4b 1 (1037, 44, 122, 108)\n",
      "set4b 2 (527, 386, 241, 221)\n",
      "set4b 3 (350, 671, 59, 48)\n",
      "Set5a 0 (586, 82, 53, 63)\n",
      "Set5a 1 (688, 303, 47, 55)\n",
      "Set5a 2 (666, 630, 57, 62)\n",
      "set5b 0 (541, 177, 56, 53)\n",
      "set5b 1 (869, 59, 251, 254)\n",
      "set5b 2 (954, 529, 92, 74)\n",
      "set5b 3 (303, 496, 229, 217)\n",
      "Set6a 0 (43, 294, 59, 71)\n",
      "Set6a 1 (414, 336, 153, 135)\n",
      "Set6a 2 (753, 161, 69, 61)\n",
      "set6b 0 (349, 98, 108, 98)\n",
      "set6b 1 (867, 180, 111, 91)\n",
      "set6b 2 (502, 509, 107, 96)\n",
      "set6b 3 (1117, 574, 71, 57)\n",
      "Set7a 0 (534, 274, 66, 74)\n",
      "Set7a 1 (632, 208, 52, 50)\n",
      "Set7a 2 (815, 137, 48, 37)\n",
      "Set7a 3 (652, 652, 62, 58)\n",
      "Set7a 4 (333, 321, 61, 55)\n",
      "Set7a 5 (256, 399, 52, 61)\n",
      "set7b 0 (212, 276, 66, 68)\n",
      "set7b 1 (595, 337, 54, 51)\n",
      "set7b 2 (954, 98, 59, 66)\n",
      "set7b 3 (1044, 592, 71, 61)\n",
      "Set8a 0 (577, 103, 154, 138)\n",
      "Set8a 1 (846, 371, 45, 50)\n",
      "Set8a 2 (1035, 291, 39, 55)\n",
      "Set8a 3 (452, 163, 47, 41)\n",
      "Set8a 4 (191, 550, 66, 66)\n",
      "set8b 0 (292, 410, 61, 62)\n",
      "set8b 1 (500, 128, 114, 98)\n",
      "set8b 2 (606, 326, 228, 218)\n",
      "Set9a 0 (394, 705, 59, 54)\n",
      "Set9a 1 (909, 544, 62, 63)\n",
      "Set9a 2 (1047, 317, 45, 38)\n",
      "Set9a 3 (674, 151, 110, 88)\n"
     ]
    }
   ],
   "source": [
    "# Tracking\n",
    "bbox_dict = txt_to_dict('bbox_dict.txt')\n",
    "tracker = cv2.TrackerCSRT_create()\n",
    "\n",
    "for s in set_list:\n",
    "    i = 0\n",
    "    for bbox in bbox_dict[s]:\n",
    "        print(s, i, bbox)\n",
    "        tracker = cv2.TrackerCSRT_create()\n",
    "        output = track(f\"data/{s}\", tracker, bbox, f\"output/{s}-{i}.txt\")\n",
    "        i += 1"
   ]
  },
  {
   "cell_type": "code",
   "execution_count": null,
   "metadata": {},
   "outputs": [],
   "source": []
  }
 ],
 "metadata": {
  "interpreter": {
   "hash": "f9983b5ffafbe332e6dcd960050b68769d74ba1298d5043c24c553477a9ad01b"
  },
  "kernelspec": {
   "display_name": "Python 3.7.0 64-bit",
   "language": "python",
   "name": "python3"
  },
  "language_info": {
   "codemirror_mode": {
    "name": "ipython",
    "version": 3
   },
   "file_extension": ".py",
   "mimetype": "text/x-python",
   "name": "python",
   "nbconvert_exporter": "python",
   "pygments_lexer": "ipython3",
   "version": "3.7.0"
  },
  "orig_nbformat": 4
 },
 "nbformat": 4,
 "nbformat_minor": 2
}
